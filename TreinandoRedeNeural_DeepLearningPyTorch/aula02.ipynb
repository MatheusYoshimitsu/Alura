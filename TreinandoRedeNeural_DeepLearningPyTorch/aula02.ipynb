{
 "cells": [
  {
   "cell_type": "code",
   "execution_count": 50,
   "metadata": {},
   "outputs": [],
   "source": [
    "from sklearn import datasets\n",
    "import matplotlib.pyplot as plt\n",
    "\n",
    "features = [0, 9]\n",
    "\n",
    "wine = datasets.load_wine()\n",
    "data = wine.data[:, features]\n",
    "targets = wine.target\n",
    "\n",
    "plt.scatter(data[:, 0], data[:, 1], c=targets, s = 15, cmap = plt.cm.brg)\n",
    "plt.xlabel(wine.feature_names[features[0]])\n",
    "plt.ylabel(wine.feature_names[features[1]])\n",
    "\n",
    "plt.show()"
   ]
  },
  {
   "cell_type": "markdown",
   "metadata": {},
   "source": [
    "**Uma boa prática é normalizar nossos dados. No entanto podemos rodar ao final da aula para ver o impacto de *não* fazer isso**"
   ]
  },
  {
   "cell_type": "code",
   "execution_count": 43,
   "metadata": {},
   "outputs": [
    {
     "name": "stderr",
     "output_type": "stream",
     "text": [
      "invalid command name \"140110819239552process_stream_events\"\n",
      "    while executing\n",
      "\"140110819239552process_stream_events\"\n",
      "    (\"after\" script)\n",
      "can't invoke \"event\" command: application has been destroyed\n",
      "    while executing\n",
      "\"event generate $w <<ThemeChanged>>\"\n",
      "    (procedure \"ttk::ThemeChanged\" line 6)\n",
      "    invoked from within\n",
      "\"ttk::ThemeChanged\"\n"
     ]
    }
   ],
   "source": [
    "from sklearn.preprocessing import StandardScaler\n",
    "\n",
    "scaler = StandardScaler()\n",
    "data = scaler.fit_transform(data)\n",
    "\n",
    "plt.scatter(data[:, 0], data[:, 1], c = targets, s = 15, cmap=plt.cm.brg)\n",
    "plt.xlabel(wine.feature_names[features[0]])\n",
    "plt.ylabel(wine.feature_names[features[1]])\n",
    "\n",
    "plt.show()"
   ]
  },
  {
   "cell_type": "markdown",
   "metadata": {},
   "source": [
    "### Instanciando nossa rede neural"
   ]
  },
  {
   "cell_type": "code",
   "execution_count": 51,
   "metadata": {},
   "outputs": [
    {
     "name": "stdout",
     "output_type": "stream",
     "text": [
      "Sequential(\n",
      "  (0): Linear(in_features=2, out_features=32, bias=True)\n",
      "  (1): ReLU()\n",
      "  (2): Linear(in_features=32, out_features=3, bias=True)\n",
      "  (3): Softmax(dim=None)\n",
      ")\n"
     ]
    }
   ],
   "source": [
    "import torch\n",
    "from torch import nn\n",
    "\n",
    "if torch.cuda.is_available():\n",
    "    device = torch.device(\"cuda\")\n",
    "else:\n",
    "    device = torch.device(\"cpu\")\n",
    "\n",
    "input_size = data.shape[1]\n",
    "hidden_size = 32  # escolha do programador\n",
    "out_size = len(wine.target_names) # numero de classes\n",
    "\n",
    "net = nn.Sequential(\n",
    "    nn.Linear(input_size, hidden_size), # Camada escondida\n",
    "    nn.ReLU(), # Funcao de ativacao\n",
    "    nn.Linear(hidden_size, out_size), # Camada linear\n",
    "    nn.Softmax() # Transforma em uma distribuicao de probabilidades\n",
    ")\n",
    "\n",
    "net = net.to(device)\n",
    "print(net)"
   ]
  },
  {
   "cell_type": "markdown",
   "metadata": {},
   "source": [
    "### Visualizando a fronteira de decisao"
   ]
  },
  {
   "cell_type": "code",
   "execution_count": 53,
   "metadata": {},
   "outputs": [],
   "source": [
    "import numpy as np\n",
    "\n",
    "\n",
    "def plot_boundary(X, y, model):\n",
    "    x_min, x_max = X[:, 0].min() - 0.1, X[:, 0].max() + 0.1\n",
    "    y_min, y_max = X[:, 0].min() - 0.1, X[:, 0].max() + 0.1\n",
    "\n",
    "    spacing = min(x_max - x_min, y_max - y_min) / 100\n",
    "\n",
    "    XX, YY = np.meshgrid(\n",
    "        np.arange(x_min, x_max, spacing), np.arange(y_min, y_max, spacing)\n",
    "    )\n",
    "\n",
    "    data = np.hstack((XX.ravel().reshape(-1, 1), YY.ravel().reshape(-1, 1)))\n",
    "\n",
    "    # # Para problemas binarios\n",
    "    # db_prob = model(Variable(torch.Tensor(data)).cuda())\n",
    "    # clf = np.where(db_prob.cpu().data < 0.5, 0, 1)\n",
    "\n",
    "    # Para problemas multiclasse\n",
    "    db_prob = model(torch.Tensor(data).to(device))\n",
    "    clf = np.argmax(db_prob.cpu().data.numpy(), axis=-1)\n",
    "\n",
    "    Z = clf.reshape(XX.shape)\n",
    "\n",
    "    plt.contourf(XX, YY, Z, cmap=plt.cm.brg, alpha=0.5)\n",
    "    plt.scatter(X[:, 0], X[:, 1], c=y, edgecolors=\"k\", s = 25, cmap=plt.cm.brg)"
   ]
  },
  {
   "cell_type": "code",
   "execution_count": 54,
   "metadata": {},
   "outputs": [],
   "source": [
    "plot_boundary(data, targets, net)\n",
    "plt.show()"
   ]
  },
  {
   "cell_type": "code",
   "execution_count": 55,
   "metadata": {},
   "outputs": [],
   "source": [
    "from torch import optim\n",
    "\n",
    "# Funcao de perda\n",
    "criterion = nn.CrossEntropyLoss().to(device) # to(device) serve para usar a GPU, mas nao funciona em GPUs sem ser NVIDIA\n",
    "\n",
    "# Otimizador: descida do gradiente\n",
    "# Descida estocastica do gradiente\n",
    "optimizer = optim.SGD(net.parameters(), lr=1e-3)"
   ]
  },
  {
   "cell_type": "markdown",
   "metadata": {},
   "source": [
    "### Casting dos dados"
   ]
  },
  {
   "cell_type": "code",
   "execution_count": 56,
   "metadata": {},
   "outputs": [],
   "source": [
    "X = torch.FloatTensor(data).to(device)\n",
    "Y = torch.LongTensor(targets).to(device)\n",
    "\n",
    "# Ao rodar, percebemos que apenas uma iteracao nao eh suficiente!\n",
    "# Portanto, precisamos fazer um loop\n",
    "for i in range(100):\n",
    "    # Forward\n",
    "    pred = net(X)\n",
    "    loss = criterion(pred, Y)\n",
    "\n",
    "    # Backpropagation\n",
    "    loss.backward()\n",
    "    optimizer.step()\n",
    "\n",
    "    plot_boundary(data, targets, net)\n",
    "    \n",
    "    if i % 10 == 0:\n",
    "        # plt.figure()\n",
    "        plt.show()  \n",
    "# Visualizacao ruim, melhor fazer no colab"
   ]
  }
 ],
 "metadata": {
  "kernelspec": {
   "display_name": "Python 3",
   "language": "python",
   "name": "python3"
  },
  "language_info": {
   "codemirror_mode": {
    "name": "ipython",
    "version": 3
   },
   "file_extension": ".py",
   "mimetype": "text/x-python",
   "name": "python",
   "nbconvert_exporter": "python",
   "pygments_lexer": "ipython3",
   "version": "3.10.12"
  }
 },
 "nbformat": 4,
 "nbformat_minor": 2
}

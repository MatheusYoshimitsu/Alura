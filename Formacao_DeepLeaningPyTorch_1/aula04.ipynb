{
 "cells": [
  {
   "cell_type": "code",
   "execution_count": 6,
   "metadata": {},
   "outputs": [],
   "source": [
    "import torch\n",
    "from torch import nn"
   ]
  },
  {
   "cell_type": "code",
   "execution_count": 7,
   "metadata": {},
   "outputs": [
    {
     "name": "stdout",
     "output_type": "stream",
     "text": [
      "-4.4\n"
     ]
    }
   ],
   "source": [
    "from sklearn.datasets import make_classification\n",
    "import matplotlib.pyplot as plt\n",
    "import numpy as np\n",
    "\n",
    "np.random.seed(46)\n",
    "\n",
    "X, Y = make_classification(\n",
    "    n_features=2, n_redundant=0, n_informative=1, n_clusters_per_class=1\n",
    ")\n",
    "\n",
    "\n",
    "def plotmodel(w1, w2, b):\n",
    "    plt.scatter(X[:, 0], X[:, 1], marker=\"o\", c=Y, edgecolor=\"k\")\n",
    "    xmin, xmax = plt.gca().get_xlim()\n",
    "    ymin, ymax = plt.gca().get_ylim()\n",
    "\n",
    "    x = np.linspace(-2, 4, 50)\n",
    "    y = (-w1 * x - b) / w2\n",
    "\n",
    "    plt.axvline(0, -1, 1, color=\"k\", linewidth=1)\n",
    "    plt.axhline(0, -2, 4, color=\"k\", linewidth=1)\n",
    "    plt.plot(x, y, label=\"_nolegend_\")\n",
    "\n",
    "    plt.xlim(xmin, xmax)\n",
    "    plt.ylim(ymin, ymax)\n",
    "\n",
    "    # plt.show()\n",
    "\n",
    "\n",
    "w1 = 5\n",
    "w2 = 1\n",
    "b = -0.4\n",
    "plotmodel(w1, w2, b)\n",
    "\n",
    "p = (-1, 1)\n",
    "print(w1 * p[0] + w2 * p[1] + b)"
   ]
  },
  {
   "cell_type": "code",
   "execution_count": 8,
   "metadata": {},
   "outputs": [
    {
     "name": "stdout",
     "output_type": "stream",
     "text": [
      "tensor([[-0.6912, -0.3155]])\n",
      "tensor([-0.1236])\n",
      "tensor([[5., 1.]])\n",
      "tensor([-0.4000])\n"
     ]
    }
   ],
   "source": [
    "perceptron = nn.Linear(2, 1)\n",
    "sigmoide = nn.Sigmoid()\n",
    "\n",
    "print(perceptron.weight.data)\n",
    "print(perceptron.bias.data)\n",
    "\n",
    "perceptron.weight = nn.Parameter(torch.Tensor([[5, 1]]))\n",
    "perceptron.bias = nn.Parameter(torch.Tensor([-0.4]))\n",
    "\n",
    "print(perceptron.weight.data)\n",
    "print(perceptron.bias.data)"
   ]
  },
  {
   "cell_type": "code",
   "execution_count": 9,
   "metadata": {},
   "outputs": [],
   "source": [
    "# activation = nn.ReLU()\n",
    "# activation = nn.Tanh()"
   ]
  },
  {
   "cell_type": "code",
   "execution_count": 10,
   "metadata": {},
   "outputs": [
    {
     "name": "stderr",
     "output_type": "stream",
     "text": [
      "invalid command name \"140146345097536process_stream_events\"\n",
      "    while executing\n",
      "\"140146345097536process_stream_events\"\n",
      "    (\"after\" script)\n",
      "can't invoke \"event\" command: application has been destroyed\n",
      "    while executing\n",
      "\"event generate $w <<ThemeChanged>>\"\n",
      "    (procedure \"ttk::ThemeChanged\" line 6)\n",
      "    invoked from within\n",
      "\"ttk::ThemeChanged\"\n"
     ]
    }
   ],
   "source": [
    "markers = ['^', 'v', '>', '<']\n",
    "colors = ['r', 'g', 'b', 'gray']\n",
    "\n",
    "plt.figure(figsize=(8,6))\n",
    "plotmodel(w1, w2, b)\n",
    "\n",
    "\n",
    "for k, idx in enumerate([17, 21, 43, 66]):\n",
    "    x = torch.Tensor(X[idx])\n",
    "\n",
    "    ret = perceptron(x)\n",
    "    act = sigmoide(ret)\n",
    "    # act = activation(ret)\n",
    "\n",
    "    act_limiar = 0 if ret  < 0 else 1\n",
    "\n",
    "    label = 'ret = {:5.2f}'.format(ret.data.numpy()[0]) + 'limiar: {:4.2f}'.format(act_limiar) + 'act: {:5.2f}'.format(act.data.numpy()[0])\n",
    "\n",
    "    plt.plot(x[0], x[1], marker=markers[k], color=colors[k], markersize = 10, label=label)\n",
    "plt.legend()\n",
    "plt.show()\n"
   ]
  }
 ],
 "metadata": {
  "kernelspec": {
   "display_name": "Python 3",
   "language": "python",
   "name": "python3"
  },
  "language_info": {
   "codemirror_mode": {
    "name": "ipython",
    "version": 3
   },
   "file_extension": ".py",
   "mimetype": "text/x-python",
   "name": "python",
   "nbconvert_exporter": "python",
   "pygments_lexer": "ipython3",
   "version": "3.10.12"
  }
 },
 "nbformat": 4,
 "nbformat_minor": 2
}

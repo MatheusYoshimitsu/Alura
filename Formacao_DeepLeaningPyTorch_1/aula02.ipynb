{
 "cells": [
  {
   "cell_type": "markdown",
   "metadata": {},
   "source": [
    "# Exercício de classificação linear\n",
    "\n",
    "Vamos pegar uma distribuição dividida em 2 classes e definir uma reta que divide bem estes dados."
   ]
  },
  {
   "cell_type": "code",
   "execution_count": 37,
   "metadata": {},
   "outputs": [],
   "source": [
    "import numpy as np\n",
    "import torch\n",
    "from sklearn.datasets import make_classification\n",
    "import matplotlib.pyplot as plt\n",
    "\n",
    "np.random.seed(46)\n",
    "# X n_samples n_features. Y n_samples. Y recebe apenas as labels das classes\n",
    "X, Y = make_classification(n_features=2, n_redundant=0, n_informative=1, n_clusters_per_class=1)"
   ]
  },
  {
   "cell_type": "code",
   "execution_count": 38,
   "metadata": {},
   "outputs": [
    {
     "name": "stdout",
     "output_type": "stream",
     "text": [
      "(100, 2) (100,)\n",
      "\n",
      " [[-0.41744617 -0.20771383]\n",
      " [-1.9710428  -0.39344306]\n",
      " [ 0.61731066  1.97848595]\n",
      " [-0.40372822 -1.21100546]\n",
      " [ 0.29051402 -1.25738509]\n",
      " [-1.06792723  0.75056285]\n",
      " [ 0.55889746  2.06970174]\n",
      " [ 1.73649693  0.19592607]\n",
      " [-2.58864283  2.03728518]\n",
      " [-0.54750741 -0.50138287]\n",
      " [-1.46725763 -0.22936217]\n",
      " [-2.42749091  1.32298921]\n",
      " [-2.52136747  0.4484269 ]\n",
      " [-0.3598221   0.14475882]\n",
      " [ 2.03305003 -0.29434733]\n",
      " [-0.58958266  1.0769601 ]\n",
      " [ 2.28165471  0.11388925]\n",
      " [-3.68350834  0.7847971 ]\n",
      " [ 2.23200375  0.63196944]\n",
      " [-1.85880018  0.16790182]\n",
      " [ 2.1292637   1.84575537]\n",
      " [-0.14610248 -0.40499557]\n",
      " [ 0.22630778 -0.55273713]\n",
      " [-0.04238324 -0.54587783]\n",
      " [ 1.61676055  0.29502551]\n",
      " [ 1.08865958  0.64473068]\n",
      " [-1.07288147 -0.6008131 ]\n",
      " [-1.03810855  0.67062619]\n",
      " [ 2.4146267   0.59119899]\n",
      " [-1.17545726 -1.01789574]\n",
      " [-1.11477859 -0.76491629]\n",
      " [ 0.04469781  1.69679086]\n",
      " [-0.18136275  0.29392367]\n",
      " [-0.55208057 -1.94750256]\n",
      " [-1.56342064 -0.44690173]\n",
      " [-1.44051996 -1.82556614]\n",
      " [-0.77550092 -0.99059133]\n",
      " [ 1.4199636   1.00700518]\n",
      " [-1.86550947 -1.95395873]\n",
      " [-1.15464377  0.76440075]\n",
      " [-1.8023001  -0.42619337]\n",
      " [ 2.91731269 -1.59636729]\n",
      " [ 0.38582433 -0.20170426]\n",
      " [-0.50090083  1.42804287]\n",
      " [ 0.85247944  0.48357361]\n",
      " [-0.23919628 -0.1645873 ]\n",
      " [ 1.14624623 -1.0532048 ]\n",
      " [ 0.18287868 -0.76721326]\n",
      " [ 1.42657838 -0.73253257]\n",
      " [-0.92392792 -0.05023517]\n",
      " [-1.79605535 -1.9723171 ]\n",
      " [ 1.01456287  1.54050542]\n",
      " [ 2.75164952  1.04931321]\n",
      " [-1.47739392 -0.501343  ]\n",
      " [ 0.87623871  0.67132337]\n",
      " [ 0.74358999 -0.26092829]\n",
      " [-1.39074326  0.28277807]\n",
      " [ 1.18239779  1.80910552]\n",
      " [-1.39137844 -0.85349634]\n",
      " [ 1.95320625 -1.78008556]\n",
      " [ 0.81926029  1.00209337]\n",
      " [-1.1241034   1.10580637]\n",
      " [-1.47644162  1.28328288]\n",
      " [ 0.7282214  -0.19885568]\n",
      " [ 1.1500468  -0.3705865 ]\n",
      " [ 1.14017225  1.52545235]\n",
      " [ 3.00199903  1.8727757 ]\n",
      " [-0.1810073  -0.20741352]\n",
      " [-1.09969573 -0.82852179]\n",
      " [ 1.39619669 -0.49335802]\n",
      " [-0.18657524 -1.9742086 ]\n",
      " [ 1.56948438 -1.02515947]\n",
      " [-0.07586717  1.20822835]\n",
      " [-2.33123546  0.18914756]\n",
      " [ 1.85686389  0.39551024]\n",
      " [-1.15573979  1.40105207]\n",
      " [-1.35759431  0.57107499]\n",
      " [ 1.68970489  1.19071613]\n",
      " [-0.94868994  0.09480913]\n",
      " [-1.09309418 -0.20628182]\n",
      " [ 1.50831144  1.63948852]\n",
      " [-0.00860043 -0.3445246 ]\n",
      " [ 0.27324482  1.37665144]\n",
      " [ 1.30454748 -0.02984069]\n",
      " [-1.13459577  0.8305621 ]\n",
      " [-1.03259294  0.40502401]\n",
      " [-1.2609092  -0.44820441]\n",
      " [ 0.86807347  0.03187402]\n",
      " [ 0.82930946  0.84461952]\n",
      " [-1.05897184  1.51685356]\n",
      " [ 0.67399306 -2.08457067]\n",
      " [ 0.78580497  2.4890058 ]\n",
      " [-0.98358433 -0.35662832]\n",
      " [ 0.73072516 -0.72057674]\n",
      " [ 1.34129322 -0.22917876]\n",
      " [-1.33326199  1.07636719]\n",
      " [ 1.65380252 -0.38177292]\n",
      " [-1.00461656  0.04463502]\n",
      " [-0.68371732  0.0620767 ]\n",
      " [ 1.54496514 -0.04793935]]\n",
      "\n",
      " [0 0 0 1 1 0 0 1 0 0 0 0 0 1 1 0 1 0 1 0 1 0 0 1 1 1 0 0 1 0 0 1 0 0 0 0 1\n",
      " 1 0 0 0 1 1 0 1 1 1 0 1 0 0 1 1 0 1 1 0 1 0 1 1 0 0 1 1 1 1 1 0 1 0 1 1 0\n",
      " 1 1 0 1 0 0 1 0 1 1 0 0 0 1 0 1 1 1 0 1 1 0 1 0 0 1]\n"
     ]
    }
   ],
   "source": [
    "# Padrao sao 100 valores\n",
    "print(X.shape, Y.shape)\n",
    "print('\\n', X)\n",
    "print('\\n', Y)"
   ]
  },
  {
   "cell_type": "code",
   "execution_count": 39,
   "metadata": {},
   "outputs": [
    {
     "name": "stdout",
     "output_type": "stream",
     "text": [
      "0\n"
     ]
    },
    {
     "data": {
      "text/plain": [
       "[<matplotlib.lines.Line2D at 0x7f0ccf021780>]"
      ]
     },
     "execution_count": 39,
     "metadata": {},
     "output_type": "execute_result"
    }
   ],
   "source": [
    "# Plotando apenas os pontos\n",
    "# Todas as amostras 0D, todas as amostras 1D\n",
    "plt.scatter(X[:, 0], X[:, 1], marker='o', c=Y, edgecolor='k')\n",
    "plt.show()\n",
    "\n",
    "p = X[10]\n",
    "print(Y[10])\n",
    "plt.plot(p[0], p[1], marker='^', markersize=20)"
   ]
  },
  {
   "cell_type": "code",
   "execution_count": 40,
   "metadata": {},
   "outputs": [
    {
     "name": "stdout",
     "output_type": "stream",
     "text": [
      "-4.4\n"
     ]
    }
   ],
   "source": [
    "def plotmodel(w1, w2, b):\n",
    "    plt.scatter(X[:, 0], X[:, 1], marker='o', c=Y, edgecolor='k')\n",
    "    plt.show()\n",
    "\n",
    "    x = np.linspace(-2,4,50)\n",
    "    y = (-w1*x -b) / w2\n",
    "    \n",
    "    plt.axvline(0, -1, 1, color='k', linewidth=1)\n",
    "    plt.axhline(0, -2, 4, color='k', linewidth=1)\n",
    "    plt.plot(x, y)\n",
    "    plt.grid(True)\n",
    "\n",
    "w1 = 5 # a\n",
    "w2 = 1 # b\n",
    "b = -0.4 # c\n",
    "plotmodel(w1, w2, b)\n",
    "\n",
    "p = (-1, 1)\n",
    "print(w1 * p[0] + w2 * p[1] + b)"
   ]
  },
  {
   "cell_type": "code",
   "execution_count": 41,
   "metadata": {},
   "outputs": [
    {
     "name": "stdout",
     "output_type": "stream",
     "text": [
      "1 yellow\n"
     ]
    },
    {
     "data": {
      "text/plain": [
       "[<matplotlib.lines.Line2D at 0x7f0ccf078f10>]"
      ]
     },
     "execution_count": 41,
     "metadata": {},
     "output_type": "execute_result"
    }
   ],
   "source": [
    "def classify(ponto, w1, w2, b):\n",
    "    ret = w1 * ponto[0] + w2 * ponto[1] + b\n",
    "\n",
    "    if ret >= 0:\n",
    "        return 1, 'yellow'\n",
    "    else:\n",
    "        return 0, 'blue'\n",
    "    \n",
    "p = (2, -1)\n",
    "classe, cor  = classify(p, w1, w2, b)\n",
    "print(classe, cor)\n",
    "plotmodel(w1, w2, b)\n",
    "plt.plot(p[0], p[1], marker='^', color=cor, markersize = 30)"
   ]
  },
  {
   "cell_type": "code",
   "execution_count": 44,
   "metadata": {},
   "outputs": [
    {
     "name": "stdout",
     "output_type": "stream",
     "text": [
      "Acuracia: 0.87\n"
     ]
    }
   ],
   "source": [
    "acertos = 0\n",
    "\n",
    "for k in range(len(X)):\n",
    "    categ, _ = classify(X[k], w1, w2, b)\n",
    "    if categ == Y[k]:\n",
    "        acertos += 1\n",
    "\n",
    "print(\"Acuracia: {0}\".format(acertos/len(X)))"
   ]
  }
 ],
 "metadata": {
  "kernelspec": {
   "display_name": "Python 3",
   "language": "python",
   "name": "python3"
  },
  "language_info": {
   "codemirror_mode": {
    "name": "ipython",
    "version": 3
   },
   "file_extension": ".py",
   "mimetype": "text/x-python",
   "name": "python",
   "nbconvert_exporter": "python",
   "pygments_lexer": "ipython3",
   "version": "3.10.12"
  }
 },
 "nbformat": 4,
 "nbformat_minor": 2
}

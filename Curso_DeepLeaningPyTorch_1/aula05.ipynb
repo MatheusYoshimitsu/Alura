{
 "cells": [
  {
   "cell_type": "code",
   "execution_count": 22,
   "metadata": {},
   "outputs": [],
   "source": [
    "from sklearn.datasets import make_moons\n",
    "import matplotlib.pyplot as plt\n",
    "\n",
    "X1, Y1 = make_moons(n_samples=300, noise=0.2)\n",
    "plt.scatter(X1[:, 0], X1[:, 1], marker='o', c=Y1, s=25, edgecolor='k')\n",
    "plt.show()"
   ]
  },
  {
   "cell_type": "code",
   "execution_count": 23,
   "metadata": {},
   "outputs": [
    {
     "name": "stdout",
     "output_type": "stream",
     "text": [
      "Sequential(\n",
      "  (0): Linear(in_features=2, out_features=8, bias=True)\n",
      "  (1): ReLU()\n",
      "  (2): Linear(in_features=8, out_features=1, bias=True)\n",
      ")\n"
     ]
    }
   ],
   "source": [
    "import torch\n",
    "from torch import nn\n",
    "\n",
    "input_size = 2\n",
    "hidden_size = 8\n",
    "output_size = 1\n",
    "\n",
    "net = nn.Sequential(nn.Linear(in_features=input_size, out_features=hidden_size), # hidden\n",
    "                    nn.ReLU(),   # ativacao (nao linear)\n",
    "                    nn.Linear(in_features=hidden_size, out_features=output_size)) # output\n",
    "print(net)"
   ]
  },
  {
   "cell_type": "code",
   "execution_count": 24,
   "metadata": {},
   "outputs": [
    {
     "name": "stdout",
     "output_type": "stream",
     "text": [
      "----------------------------------------------------------------\n",
      "        Layer (type)               Output Shape         Param #\n",
      "================================================================\n",
      "            Linear-1                 [-1, 1, 8]              24\n",
      "              ReLU-2                 [-1, 1, 8]               0\n",
      "            Linear-3                 [-1, 1, 1]               9\n",
      "================================================================\n",
      "Total params: 33\n",
      "Trainable params: 33\n",
      "Non-trainable params: 0\n",
      "----------------------------------------------------------------\n",
      "Input size (MB): 0.00\n",
      "Forward/backward pass size (MB): 0.00\n",
      "Params size (MB): 0.00\n",
      "Estimated Total Size (MB): 0.00\n",
      "----------------------------------------------------------------\n"
     ]
    }
   ],
   "source": [
    "from torchsummary import summary\n",
    "summary(net, input_size=(1, input_size))"
   ]
  },
  {
   "cell_type": "code",
   "execution_count": 25,
   "metadata": {},
   "outputs": [
    {
     "name": "stdout",
     "output_type": "stream",
     "text": [
      "float64\n",
      "(300, 2)\n",
      "torch.Size([300, 1])\n"
     ]
    }
   ],
   "source": [
    "print(X1.dtype) # float 64\n",
    "print(X1.shape)\n",
    "tensor = torch.from_numpy(X1).float() # float 32\n",
    "pred = net(tensor)\n",
    "print(pred.size())"
   ]
  },
  {
   "cell_type": "code",
   "execution_count": 26,
   "metadata": {},
   "outputs": [],
   "source": [
    "class MinhaRede(nn.Module): # Segundo a documentacao, a nossa classe deve ser uma subclasse de nn.Module\n",
    "    def __init__(self, input_size, hidden_size, output_size):\n",
    "        super(MinhaRede, self).__init__()\n",
    "\n",
    "        # Definir a arquitetura\n",
    "        self.hidden = nn.Linear(input_size, hidden_size) # self: atributo da classe acessivel de qualquer local desta\n",
    "        self.relu = nn.ReLU()\n",
    "        self.output = nn.Linear(hidden_size, output_size)\n",
    "\n",
    "    def forward(self, X):\n",
    "\n",
    "        # Gerar uma saida a partir de X\n",
    "        hidden = self.relu(self.hidden(X))\n",
    "        output = self.output(hidden)\n",
    "\n",
    "        return output"
   ]
  },
  {
   "cell_type": "code",
   "execution_count": 27,
   "metadata": {},
   "outputs": [
    {
     "name": "stdout",
     "output_type": "stream",
     "text": [
      "MinhaRede(\n",
      "  (hidden): Linear(in_features=2, out_features=8, bias=True)\n",
      "  (relu): ReLU()\n",
      "  (output): Linear(in_features=8, out_features=1, bias=True)\n",
      ")\n"
     ]
    }
   ],
   "source": [
    "input_size = 2\n",
    "hidden_size = 8\n",
    "output_size = 1\n",
    "\n",
    "net = MinhaRede(input_size, hidden_size, output_size) # O metodo __init__\n",
    "print(net)"
   ]
  },
  {
   "cell_type": "code",
   "execution_count": 28,
   "metadata": {},
   "outputs": [
    {
     "name": "stdout",
     "output_type": "stream",
     "text": [
      "(300, 2)\n",
      "torch.Size([300, 1])\n"
     ]
    }
   ],
   "source": [
    "print(X1.shape)\n",
    "tensor = torch.from_numpy(X1).float()\n",
    "pred = net(tensor)\n",
    "print(pred.size())"
   ]
  },
  {
   "cell_type": "code",
   "execution_count": 29,
   "metadata": {},
   "outputs": [
    {
     "name": "stdout",
     "output_type": "stream",
     "text": [
      "cpu\n"
     ]
    }
   ],
   "source": [
    "if torch.cuda.is_available():\n",
    "    device = torch.device('cuda')\n",
    "else:\n",
    "    device = torch.device('cpu')\n",
    "# A intencao eh que fosse usada a GPU, porem nao sera possivel pois nao temos placa NVIDIA\n",
    "print(device)"
   ]
  },
  {
   "cell_type": "code",
   "execution_count": 30,
   "metadata": {},
   "outputs": [
    {
     "name": "stdout",
     "output_type": "stream",
     "text": [
      "MinhaRede(\n",
      "  (hidden): Linear(in_features=2, out_features=8, bias=True)\n",
      "  (relu): ReLU()\n",
      "  (output): Linear(in_features=8, out_features=1, bias=True)\n",
      ")\n"
     ]
    }
   ],
   "source": [
    "input_size = 2\n",
    "hidden_size = 8\n",
    "output_size = 1\n",
    "\n",
    "net = MinhaRede(input_size, hidden_size, output_size) # O metodo __init__\n",
    "net = net.to(device)\n",
    "print(net)"
   ]
  },
  {
   "cell_type": "code",
   "execution_count": 31,
   "metadata": {},
   "outputs": [
    {
     "name": "stdout",
     "output_type": "stream",
     "text": [
      "(300, 2)\n",
      "torch.Size([300, 1])\n"
     ]
    }
   ],
   "source": [
    "print(X1.shape)\n",
    "tensor = torch.from_numpy(X1).float()\n",
    "tensor = tensor.to(device)\n",
    "# print(tensor)\n",
    "\n",
    "pred = net(tensor)\n",
    "print(pred.size())"
   ]
  }
 ],
 "metadata": {
  "kernelspec": {
   "display_name": "Python 3",
   "language": "python",
   "name": "python3"
  },
  "language_info": {
   "codemirror_mode": {
    "name": "ipython",
    "version": 3
   },
   "file_extension": ".py",
   "mimetype": "text/x-python",
   "name": "python",
   "nbconvert_exporter": "python",
   "pygments_lexer": "ipython3",
   "version": "3.10.12"
  }
 },
 "nbformat": 4,
 "nbformat_minor": 2
}

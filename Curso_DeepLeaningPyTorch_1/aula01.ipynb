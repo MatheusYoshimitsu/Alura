{
 "cells": [
  {
   "cell_type": "code",
   "execution_count": 68,
   "metadata": {},
   "outputs": [],
   "source": [
    "import numpy as np\n",
    "import torch"
   ]
  },
  {
   "cell_type": "code",
   "execution_count": 69,
   "metadata": {},
   "outputs": [
    {
     "name": "stdout",
     "output_type": "stream",
     "text": [
      "torch.float32\n",
      "tensor([[1., 2., 3.],\n",
      "        [4., 5., 6.]])\n"
     ]
    }
   ],
   "source": [
    "lista = [\n",
    "    [1,2,3],\n",
    "    [4,5,6]\n",
    "]\n",
    "\n",
    "# O tipo padrao e um tensor float 32 bits\n",
    "tns = torch.Tensor(lista)\n",
    "print(tns.dtype)\n",
    "print(tns)"
   ]
  },
  {
   "cell_type": "code",
   "execution_count": 70,
   "metadata": {},
   "outputs": [
    {
     "name": "stdout",
     "output_type": "stream",
     "text": [
      "torch.float64\n",
      "tensor([[1., 2., 3.],\n",
      "        [4., 5., 6.]], dtype=torch.float64)\n",
      "torch.float32\n",
      "tensor([[1., 2., 3.],\n",
      "        [4., 5., 6.]])\n",
      "torch.int64\n",
      "tensor([[1, 2, 3],\n",
      "        [4, 5, 6]])\n"
     ]
    }
   ],
   "source": [
    "# Outros tipos\n",
    "# double (float 64 bits)\n",
    "tns = torch.DoubleTensor(lista)\n",
    "print(tns.dtype)\n",
    "print(tns)\n",
    "\n",
    "# Conversao explicita para 32 bits\n",
    "tns = torch.FloatTensor(lista)\n",
    "print(tns.dtype)\n",
    "print(tns)\n",
    "\n",
    "# Int\n",
    "tns = torch.LongTensor(lista)\n",
    "print(tns.dtype)\n",
    "print(tns)"
   ]
  },
  {
   "cell_type": "code",
   "execution_count": 71,
   "metadata": {},
   "outputs": [
    {
     "name": "stdout",
     "output_type": "stream",
     "text": [
      "[[0.87896311 0.93771195 0.69532997 0.38514718]\n",
      " [0.8014956  0.79388584 0.06300936 0.49063281]\n",
      " [0.67227035 0.81287404 0.13490315 0.25370977]]\n",
      "tensor([[0.8790, 0.9377, 0.6953, 0.3851],\n",
      "        [0.8015, 0.7939, 0.0630, 0.4906],\n",
      "        [0.6723, 0.8129, 0.1349, 0.2537]], dtype=torch.float64)\n",
      "[[0 0 0 0]\n",
      " [0 0 0 0]\n",
      " [0 0 0 0]]\n",
      "tensor([[0, 0, 0, 0],\n",
      "        [0, 0, 0, 0],\n",
      "        [0, 0, 0, 0]])\n"
     ]
    }
   ],
   "source": [
    "# Outras formas de inicializar tensores\n",
    "# O tipo do tensor e o tipo do array sao os mesmos\n",
    "# A partir de arrays NumPy\n",
    "arr = np.random.rand(3, 4) # array aleatorio de 3 linhas e 4 colunas\n",
    "tns = torch.from_numpy(arr)\n",
    "print(arr)\n",
    "print(tns)\n",
    "\n",
    "arr = np.random.rand(3, 4) # array aleatorio de 3 linhas e 4 colunas\n",
    "arr = arr.astype(int)\n",
    "tns = torch.from_numpy(arr)\n",
    "print(arr)\n",
    "print(tns)"
   ]
  },
  {
   "cell_type": "code",
   "execution_count": 72,
   "metadata": {},
   "outputs": [
    {
     "name": "stdout",
     "output_type": "stream",
     "text": [
      "tensor([[1., 1., 1.],\n",
      "        [1., 1., 1.]])\n",
      "tensor([[0., 0., 0., 0., 0.],\n",
      "        [0., 0., 0., 0., 0.],\n",
      "        [0., 0., 0., 0., 0.],\n",
      "        [0., 0., 0., 0., 0.]])\n",
      "tensor([[-1.1777,  1.3018, -0.5093],\n",
      "        [ 1.8644,  0.8149,  0.5681],\n",
      "        [-1.0523,  0.9092,  0.2295]])\n"
     ]
    }
   ],
   "source": [
    "# Tensores inicializados\n",
    "tns1 = torch.ones(2, 3)\n",
    "tns0 = torch.zeros(4, 5)\n",
    "tnsr = torch.randn(3, 3) # preenchimento de acordo com uma distribuicao normal\n",
    "\n",
    "print(tns1)\n",
    "print(tns0)\n",
    "print(tnsr)"
   ]
  },
  {
   "cell_type": "code",
   "execution_count": 73,
   "metadata": {},
   "outputs": [
    {
     "name": "stdout",
     "output_type": "stream",
     "text": [
      "[[-1.1776994   1.3017564  -0.5092827 ]\n",
      " [ 1.86438     0.8149002   0.56807715]\n",
      " [-1.0522925   0.90919787  0.22948852]]\n"
     ]
    }
   ],
   "source": [
    "# Tensor para array NumPy\n",
    "arr = tnsr.data.numpy()\n",
    "print(arr)"
   ]
  },
  {
   "cell_type": "code",
   "execution_count": 74,
   "metadata": {},
   "outputs": [
    {
     "name": "stdout",
     "output_type": "stream",
     "text": [
      "<class 'torch.Tensor'>\n",
      "<class 'numpy.ndarray'>\n"
     ]
    }
   ],
   "source": [
    "# Tipo tensor\n",
    "print(type(tnsr))\n",
    "arr = tnsr.data.numpy()\n",
    "print(type(arr))"
   ]
  },
  {
   "cell_type": "code",
   "execution_count": 75,
   "metadata": {},
   "outputs": [
    {
     "name": "stdout",
     "output_type": "stream",
     "text": [
      "tensor([[-1.1777,  1.3018, -0.5093],\n",
      "        [ 1.8644,  0.8149,  0.5681],\n",
      "        [-1.0523,  0.9092,  0.2295]])\n",
      "\n",
      "tensor([[ -1.1777,   1.3018, -10.0000],\n",
      "        [  1.8644,   0.8149,   0.5681],\n",
      "        [ -1.0523,   0.9092,   0.2295]])\n",
      "\n",
      "tensor([[ -1.1777,   1.3018, -10.0000],\n",
      "        [  1.8644,   0.8149,   0.5681]])\n",
      "\n",
      "tensor([-10.0000,   0.5681,   0.2295])\n",
      "\n",
      "tensor(-10.)\n",
      "torch.Size([])\n"
     ]
    }
   ],
   "source": [
    "# Indexacao (acessar partes do tensor)\n",
    "# Sintaxe similar a NumPy usando colchetes []\n",
    "print(tnsr)\n",
    "tnsr[0, 2] = -10\n",
    "\n",
    "print('')\n",
    "print(tnsr)\n",
    "\n",
    "print('')\n",
    "print(tnsr[0:2]) # acessa linhas 0 e 1, mas nao 2. Elemento a direita de : nao eh incluido\n",
    "\n",
    "print('')\n",
    "print(tnsr[:, 2]) # todas as linhas da coluna 2\n",
    "\n",
    "print('')\n",
    "print(tnsr[0,2]) # um unico elemento\n",
    "print(tnsr[0,2].size()) # size() nao retorna nada. Tensor de 0 dimensoes\n"
   ]
  },
  {
   "cell_type": "code",
   "execution_count": 76,
   "metadata": {},
   "outputs": [
    {
     "name": "stdout",
     "output_type": "stream",
     "text": [
      "torch.Size([3, 3])\n",
      "torch.Size([2, 3])\n",
      "\n",
      "torch.Size([2, 3])\n",
      "torch.Size([2, 3])\n",
      "\n",
      "tensor([[-0.1777,  2.3018, -9.0000],\n",
      "        [ 2.8644,  1.8149,  1.5681]])\n",
      "tensor([[ -2.1777,   0.3018, -11.0000],\n",
      "        [  0.8644,  -0.1851,  -0.4319]])\n",
      "tensor([[-0.1777,  2.3018, -9.0000],\n",
      "        [ 2.8644,  1.8149,  1.5681]])\n",
      "tensor([[ -1.1777,   1.3018, -10.0000],\n",
      "        [  1.8644,   0.8149,   0.5681]])\n",
      "\n",
      "tensor([[-9.8759, -9.8759],\n",
      "        [ 3.2474,  3.2474]])\n"
     ]
    }
   ],
   "source": [
    "# Operacoes\n",
    "# Sao realizadas ponto a ponto, ou seja, (i, j) o numero de dimensoes deve ser o mesmo\n",
    "print(tnsr.shape)\n",
    "print(tns1.shape)\n",
    "\n",
    "tns = tnsr[0:2, :]\n",
    "print('')\n",
    "print(tns.shape)\n",
    "print(tns1.shape)\n",
    "\n",
    "print('')\n",
    "print(tns + tns1)\n",
    "print(tns - tns1)\n",
    "print(tns + tns1)\n",
    "print(tns * tns1) # esta nao eh a multiplicacao de matriz que conhecemos! Ha uma funcao especifica para isso\n",
    "print('')\n",
    "print(torch.mm(tns,tns1.T)) # produto interno. como as matrizes possuem ambas dimensao 2x3, foi necessario fazer a transposta de uma delas, ficando 2x3 e 3x2\n",
    "# tns1 -> (n x m)\n",
    "# tns2 -> (m x p)\n",
    "# resultado -> (m x p)"
   ]
  },
  {
   "cell_type": "code",
   "execution_count": 77,
   "metadata": {},
   "outputs": [
    {
     "name": "stdout",
     "output_type": "stream",
     "text": [
      "tensor([[[-1.6920,  0.4096,  1.8580],\n",
      "         [ 1.6554,  1.2220, -0.0231]],\n",
      "\n",
      "        [[-1.0955,  0.0280,  0.5204],\n",
      "         [ 0.5908,  0.4295, -0.3835]]])\n",
      "torch.Size([2, 2, 3])\n",
      "tensor([[-1.6920,  0.4096,  1.8580,  1.6554,  1.2220, -0.0231],\n",
      "        [-1.0955,  0.0280,  0.5204,  0.5908,  0.4295, -0.3835]])\n"
     ]
    }
   ],
   "source": [
    "# Extrema importancia redimensionar tensores, para torna-los lineares\n",
    "tns = torch.randn(2,2,3)\n",
    "print(tns)\n",
    "\n",
    "print(tns.size())\n",
    "\n",
    "# Muito comum\n",
    "tns = tns.view(tns.size(0), -1) # mantem a primeira dimensao e achata o resto. -1 achata o tensor\n",
    "print(tns)"
   ]
  },
  {
   "cell_type": "code",
   "execution_count": 78,
   "metadata": {},
   "outputs": [
    {
     "name": "stdout",
     "output_type": "stream",
     "text": [
      "cpu\n",
      "tensor([[-1.6920,  0.4096,  1.8580,  1.6554,  1.2220, -0.0231],\n",
      "        [-1.0955,  0.0280,  0.5204,  0.5908,  0.4295, -0.3835]])\n"
     ]
    }
   ],
   "source": [
    "# Eh possivel usar GPU\n",
    "if torch.cuda.is_available():\n",
    "    device = torch.device('cuda')\n",
    "else:\n",
    "    device = torch.device('cpu')\n",
    "print(device)\n",
    "\n",
    "tns = tns.to(device)\n",
    "print(tns)"
   ]
  },
  {
   "cell_type": "code",
   "execution_count": 79,
   "metadata": {},
   "outputs": [
    {
     "name": "stdout",
     "output_type": "stream",
     "text": [
      "tensor([[ 3.6453e-01],\n",
      "        [ 1.3582e+00],\n",
      "        [ 4.5206e-01],\n",
      "        [ 2.6517e+00],\n",
      "        [-3.5180e-01],\n",
      "        [ 1.5601e+00],\n",
      "        [ 2.6650e+00],\n",
      "        [-8.0895e-01],\n",
      "        [ 2.6918e+00],\n",
      "        [-3.1644e-01],\n",
      "        [ 4.6013e-01],\n",
      "        [-1.1671e+00],\n",
      "        [ 2.9454e+00],\n",
      "        [-1.2373e+00],\n",
      "        [ 1.3789e+00],\n",
      "        [-3.7777e-01],\n",
      "        [ 9.5224e-02],\n",
      "        [-3.4927e-01],\n",
      "        [-1.1112e+00],\n",
      "        [-5.4400e+00],\n",
      "        [ 6.4987e-01],\n",
      "        [-5.5091e-01],\n",
      "        [ 1.4023e+00],\n",
      "        [-2.3615e+00],\n",
      "        [-3.8897e-01],\n",
      "        [-9.0246e-02],\n",
      "        [ 9.6226e-01],\n",
      "        [-1.3765e+00],\n",
      "        [ 2.3905e-01],\n",
      "        [ 1.0774e+00],\n",
      "        [ 2.4540e+00],\n",
      "        [ 1.6077e+00],\n",
      "        [ 1.9475e+00],\n",
      "        [ 2.1612e+00],\n",
      "        [ 1.5775e+00],\n",
      "        [-1.2572e+00],\n",
      "        [-3.2748e-01],\n",
      "        [-1.4875e+00],\n",
      "        [ 3.4122e+00],\n",
      "        [ 4.2981e-01],\n",
      "        [ 1.2273e+00],\n",
      "        [-1.1511e+00],\n",
      "        [-2.3400e+00],\n",
      "        [-3.6906e-01],\n",
      "        [ 1.4831e+00],\n",
      "        [ 1.2931e+00],\n",
      "        [ 4.2593e-01],\n",
      "        [-2.5281e-01],\n",
      "        [-7.3432e-01],\n",
      "        [-4.2976e+00],\n",
      "        [ 9.5594e-01],\n",
      "        [ 2.2863e+00],\n",
      "        [-1.7155e+00],\n",
      "        [-1.0294e+00],\n",
      "        [ 1.7399e-01],\n",
      "        [ 1.9134e+00],\n",
      "        [ 7.2100e-01],\n",
      "        [-1.1431e+00],\n",
      "        [ 2.5135e+00],\n",
      "        [ 2.2879e+00],\n",
      "        [-1.3371e+00],\n",
      "        [-1.2507e+00],\n",
      "        [ 7.5860e-01],\n",
      "        [ 2.1427e+00],\n",
      "        [ 3.4882e+00],\n",
      "        [ 1.6930e+00],\n",
      "        [-1.0270e+00],\n",
      "        [ 1.0572e+00],\n",
      "        [-6.2030e-01],\n",
      "        [-1.6702e-02],\n",
      "        [ 5.0511e-01],\n",
      "        [-7.6542e-01],\n",
      "        [ 7.7102e-02],\n",
      "        [-4.5233e-01],\n",
      "        [-1.8526e+00],\n",
      "        [ 8.0751e-01],\n",
      "        [ 1.2231e+00],\n",
      "        [-2.2734e+00],\n",
      "        [ 1.1380e+00],\n",
      "        [-3.1076e+00],\n",
      "        [-6.0626e-01],\n",
      "        [-5.0664e-01],\n",
      "        [-2.2331e-01],\n",
      "        [ 2.0678e+00],\n",
      "        [-2.0736e+00],\n",
      "        [ 1.9678e+00],\n",
      "        [-1.6719e+00],\n",
      "        [-1.8518e+00],\n",
      "        [-9.2980e-01],\n",
      "        [ 7.1608e-01],\n",
      "        [ 4.4759e-01],\n",
      "        [-4.1492e+00],\n",
      "        [ 1.4853e-01],\n",
      "        [ 1.3386e+00],\n",
      "        [ 5.8945e-01],\n",
      "        [ 1.3053e-01],\n",
      "        [ 1.2503e+00],\n",
      "        [-1.7605e+00],\n",
      "        [ 3.7354e-01],\n",
      "        [-2.5542e-01],\n",
      "        [ 1.6960e+00],\n",
      "        [-8.0400e-01],\n",
      "        [ 7.9142e-01],\n",
      "        [ 2.0296e+00],\n",
      "        [ 4.6384e-01],\n",
      "        [-2.4754e+00],\n",
      "        [-1.7256e+00],\n",
      "        [-1.7829e-01],\n",
      "        [ 2.5911e-01],\n",
      "        [ 3.7268e-01],\n",
      "        [-1.3562e-01],\n",
      "        [-3.5187e+00],\n",
      "        [-1.6092e+00],\n",
      "        [ 3.0876e-01],\n",
      "        [ 4.6444e-01],\n",
      "        [-8.6890e-01],\n",
      "        [-9.4812e-01],\n",
      "        [ 1.6194e+00],\n",
      "        [-2.3174e+00],\n",
      "        [-2.4228e+00],\n",
      "        [-2.1720e+00],\n",
      "        [-7.3328e-01],\n",
      "        [ 9.7223e-01],\n",
      "        [ 5.2649e-02],\n",
      "        [ 1.9053e+00],\n",
      "        [ 7.4742e-01],\n",
      "        [-1.9246e+00],\n",
      "        [ 9.7295e-01],\n",
      "        [ 1.3303e+00],\n",
      "        [-1.3390e+00],\n",
      "        [ 6.9561e-01],\n",
      "        [ 1.0109e+00],\n",
      "        [-8.5909e-01],\n",
      "        [-1.0825e+00],\n",
      "        [-2.8763e+00],\n",
      "        [ 7.3067e-01],\n",
      "        [-4.4325e-01],\n",
      "        [ 3.1207e-03],\n",
      "        [ 3.5777e-01],\n",
      "        [-8.4295e-01],\n",
      "        [-6.2704e-01],\n",
      "        [-1.6823e+00],\n",
      "        [ 4.5909e+00],\n",
      "        [-1.9286e-01],\n",
      "        [ 4.4628e-01],\n",
      "        [ 2.3192e+00],\n",
      "        [ 3.7763e-01]])\n"
     ]
    }
   ],
   "source": [
    "# Atividade\n",
    "# crie um tensor aleatório tns1 com a dimensionalidade 7 x 7 x 3 e um outro tensor aleatório tns2 de 147 x 1. Modificando apenas tns1 some os dois tensores\n",
    "tns1 = torch.randn(7,7,3)\n",
    "tns2 = torch.randn(147,1)\n",
    "\n",
    "tns1 = tns1.view(-1,1) # 7 * 7 * 3 = 147. Achata tns1 e fixa a outra dimensao em 1\n",
    "print(tns1 + tns2)"
   ]
  }
 ],
 "metadata": {
  "kernelspec": {
   "display_name": "Python 3",
   "language": "python",
   "name": "python3"
  },
  "language_info": {
   "codemirror_mode": {
    "name": "ipython",
    "version": 3
   },
   "file_extension": ".py",
   "mimetype": "text/x-python",
   "name": "python",
   "nbconvert_exporter": "python",
   "pygments_lexer": "ipython3",
   "version": "3.10.12"
  }
 },
 "nbformat": 4,
 "nbformat_minor": 2
}

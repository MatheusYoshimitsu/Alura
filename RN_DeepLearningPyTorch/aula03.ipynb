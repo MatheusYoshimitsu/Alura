{
 "cells": [
  {
   "cell_type": "code",
   "execution_count": 27,
   "metadata": {},
   "outputs": [],
   "source": [
    "import torch\n",
    "from torch import nn "
   ]
  },
  {
   "cell_type": "code",
   "execution_count": 28,
   "metadata": {},
   "outputs": [
    {
     "name": "stdout",
     "output_type": "stream",
     "text": [
      "Linear(in_features=3, out_features=1, bias=True)\n"
     ]
    }
   ],
   "source": [
    "torch.manual_seed(42)\n",
    "\n",
    "perceptron = nn.Linear(in_features=3, out_features=1)\n",
    "print(perceptron)"
   ]
  },
  {
   "cell_type": "code",
   "execution_count": 29,
   "metadata": {},
   "outputs": [
    {
     "name": "stdout",
     "output_type": "stream",
     "text": [
      "weight tensor([[ 0.4414,  0.4792, -0.1353]])\n",
      "bias tensor([0.5304])\n",
      "\n",
      "tensor([[ 0.4414,  0.4792, -0.1353]])\n",
      "tensor([0.5304])\n"
     ]
    }
   ],
   "source": [
    "for nome, tensor in perceptron.named_parameters():\n",
    "    print(nome, tensor.data)\n",
    "\n",
    "print('')\n",
    "print(perceptron.weight.data)\n",
    "print(perceptron.bias.data)"
   ]
  },
  {
   "cell_type": "code",
   "execution_count": 30,
   "metadata": {},
   "outputs": [],
   "source": [
    "w1, w2, w3 = perceptron.weight.data.numpy()[0]\n",
    "b = perceptron.bias.data.numpy()\n",
    "# w1 * x1 + w2 * x2 + w3 * x3 + b = 0"
   ]
  },
  {
   "cell_type": "code",
   "execution_count": 55,
   "metadata": {},
   "outputs": [],
   "source": [
    "import numpy as np\n",
    "import matplotlib.pyplot as plt\n",
    "from mpl_toolkits.mplot3d import Axes3D\n",
    "\n",
    "def plot3d(perceptron):\n",
    "    w1, w2, w3 = perceptron.weight.data.numpy()[0]\n",
    "    b = perceptron.bias.data.numpy()\n",
    "\n",
    "    X1 = np.linspace(-1, 1, 10)\n",
    "    X2 = np.linspace(-1, 1, 10)\n",
    "\n",
    "    X1, X2  = np.meshgrid(X1, X2)\n",
    "\n",
    "    X3 = (b - w1 * X1 - w2 * X2) / w3\n",
    "\n",
    "    fig = plt.figure(figsize=(10, 8))\n",
    "    ax = fig.add_subplot(111, projection='3d')  # Change here\n",
    "    ax.view_init(azim=180)\n",
    "\n",
    "    ax.plot_surface(X1, X2, X3, cmap='plasma')\n",
    "\n",
    "    plt.show()  # Add this to display the plot\n"
   ]
  },
  {
   "cell_type": "code",
   "execution_count": 56,
   "metadata": {},
   "outputs": [],
   "source": [
    "plot3d(perceptron)"
   ]
  },
  {
   "cell_type": "markdown",
   "metadata": {},
   "source": [
    "# Fizemos anteriormentea a instancia na camada\n",
    "linear = nn.Linear(in_features=3, out_features=1)\n",
    "\n",
    "# Para realizar o forward\n",
    "y = linear(X)"
   ]
  },
  {
   "cell_type": "code",
   "execution_count": 54,
   "metadata": {},
   "outputs": [
    {
     "name": "stdout",
     "output_type": "stream",
     "text": [
      "tensor([0.7391], grad_fn=<ViewBackward0>)\n"
     ]
    },
    {
     "data": {
      "text/plain": [
       "[<matplotlib.lines.Line2D at 0x7fa7888403a0>,\n",
       " <matplotlib.lines.Line2D at 0x7fa7888420b0>]"
      ]
     },
     "execution_count": 54,
     "metadata": {},
     "output_type": "execute_result"
    }
   ],
   "source": [
    "X = torch.Tensor([0, 1, 2])\n",
    "y = perceptron(X)\n",
    "\n",
    "print(y)\n",
    "\n",
    "plot3d(perceptron)\n",
    "plt.plot([X[0]], [X[1]], [X[2]], color='r', marker='^', markersize=20)"
   ]
  }
 ],
 "metadata": {
  "kernelspec": {
   "display_name": "Python 3",
   "language": "python",
   "name": "python3"
  },
  "language_info": {
   "codemirror_mode": {
    "name": "ipython",
    "version": 3
   },
   "file_extension": ".py",
   "mimetype": "text/x-python",
   "name": "python",
   "nbconvert_exporter": "python",
   "pygments_lexer": "ipython3",
   "version": "3.10.12"
  }
 },
 "nbformat": 4,
 "nbformat_minor": 2
}

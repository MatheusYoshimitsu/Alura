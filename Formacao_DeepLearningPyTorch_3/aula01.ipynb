{
 "cells": [
  {
   "cell_type": "code",
   "execution_count": 87,
   "metadata": {},
   "outputs": [],
   "source": [
    "import torch\n",
    "from torch import nn"
   ]
  },
  {
   "cell_type": "code",
   "execution_count": 88,
   "metadata": {},
   "outputs": [
    {
     "name": "stdout",
     "output_type": "stream",
     "text": [
      "cpu\n"
     ]
    }
   ],
   "source": [
    "if torch.cuda.is_available():\n",
    "    device = torch.device('cuda')\n",
    "else:\n",
    "    device = torch.device('cpu')\n",
    "\n",
    "print(device)"
   ]
  },
  {
   "cell_type": "code",
   "execution_count": 89,
   "metadata": {},
   "outputs": [
    {
     "name": "stdout",
     "output_type": "stream",
     "text": [
      "(178, 13) (178,)\n",
      "['alcohol', 'malic_acid', 'ash', 'alcalinity_of_ash', 'magnesium', 'total_phenols', 'flavanoids', 'nonflavanoid_phenols', 'proanthocyanins', 'color_intensity', 'hue', 'od280/od315_of_diluted_wines', 'proline'] ['class_0' 'class_1' 'class_2']\n"
     ]
    }
   ],
   "source": [
    "from sklearn import datasets\n",
    "\n",
    "wine = datasets.load_wine()\n",
    "data = wine.data\n",
    "target = wine.target\n",
    "\n",
    "print(data.shape, target.shape)\n",
    "print(wine.feature_names, wine.target_names)"
   ]
  },
  {
   "cell_type": "code",
   "execution_count": 90,
   "metadata": {},
   "outputs": [],
   "source": [
    "class WineClassfier(nn.Module):\n",
    "\n",
    "    def __init__(self, input_size, hidden_size, out_size):\n",
    "        super(WineClassfier, self).__init__()\n",
    "\n",
    "        self.hidden = nn.Linear(input_size, hidden_size)\n",
    "        self.relu = nn.ReLU()\n",
    "        self.out = nn.Linear(hidden_size, out_size)\n",
    "        self.softmax = nn.Softmax()\n",
    "\n",
    "    def forward (self, X):\n",
    "\n",
    "        feature = self.relu(self.hidden(X))\n",
    "        output = self.softmax(self.out(feature))\n",
    "\n",
    "        return output\n",
    "    \n",
    "input_size = data.shape[1]\n",
    "hidden_size = 32 # numero escolhido arbitrariamente\n",
    "out_size = len(wine.target_names) # numero de classes\n",
    "\n",
    "net = WineClassfier(input_size, hidden_size, out_size).to(device) # cast na GPU"
   ]
  },
  {
   "cell_type": "code",
   "execution_count": 91,
   "metadata": {},
   "outputs": [
    {
     "name": "stdout",
     "output_type": "stream",
     "text": [
      "WineClassfier(\n",
      "  (hidden): Linear(in_features=13, out_features=32, bias=True)\n",
      "  (relu): ReLU()\n",
      "  (out): Linear(in_features=32, out_features=3, bias=True)\n",
      "  (softmax): Softmax(dim=None)\n",
      ")\n"
     ]
    }
   ],
   "source": [
    "print(net)"
   ]
  },
  {
   "cell_type": "code",
   "execution_count": 92,
   "metadata": {},
   "outputs": [],
   "source": [
    "criterion = nn.CrossEntropyLoss().to(device) # cast na GPU"
   ]
  },
  {
   "cell_type": "code",
   "execution_count": 93,
   "metadata": {},
   "outputs": [
    {
     "name": "stdout",
     "output_type": "stream",
     "text": [
      "torch.float32 torch.int64\n"
     ]
    }
   ],
   "source": [
    "Xtensor = torch.from_numpy(data).float()\n",
    "Ytensor = torch.from_numpy(target)\n",
    "\n",
    "# Cast na GPU\n",
    "Xtensor = Xtensor.to(device)\n",
    "Ytensor = Ytensor.to(device)\n",
    "\n",
    "print(Xtensor.dtype, Ytensor.dtype)"
   ]
  },
  {
   "cell_type": "code",
   "execution_count": 94,
   "metadata": {},
   "outputs": [],
   "source": [
    "# pred = net(Xtensor[0].unsqueeze(0))\n",
    "\n",
    "# print(Xtensor.unsqueeze(0).shape)\n",
    "# print(pred.shape)\n",
    "# print(pred)\n",
    "\n",
    "pred = net(Xtensor)"
   ]
  },
  {
   "cell_type": "code",
   "execution_count": 95,
   "metadata": {},
   "outputs": [
    {
     "name": "stdout",
     "output_type": "stream",
     "text": [
      "torch.Size([178, 3]) torch.Size([178])\n",
      "tensor([2.1126e-36, 1.0000e+00, 0.0000e+00]) tensor(0)\n"
     ]
    }
   ],
   "source": [
    "print(pred.shape, Ytensor.shape) # as dimensionalidades nao batem! Mas isso nao importa para a cross entropy\n",
    "\n",
    "print(pred[0].data, Ytensor[0].data) # a nossa pred eh uma distribuicao de prob e o rotulo eh um unico valor"
   ]
  },
  {
   "cell_type": "code",
   "execution_count": 96,
   "metadata": {},
   "outputs": [
    {
     "name": "stdout",
     "output_type": "stream",
     "text": [
      "tensor(1.1526, grad_fn=<NllLossBackward0>)\n"
     ]
    }
   ],
   "source": [
    "loss = criterion(pred, Ytensor) # como nao especificamos qual indice, ele da uma media geral. ao especificar um range, recebemos a media deste range\n",
    "print(loss)"
   ]
  },
  {
   "cell_type": "code",
   "execution_count": 97,
   "metadata": {},
   "outputs": [
    {
     "name": "stdout",
     "output_type": "stream",
     "text": [
      "(442, 10) (442,)\n",
      "[ 0.03807591  0.05068012  0.06169621  0.02187239 -0.0442235  -0.03482076\n",
      " -0.04340085 -0.00259226  0.01990749 -0.01764613]\n",
      "151.0\n"
     ]
    }
   ],
   "source": [
    "# Regressao\n",
    "from sklearn import datasets\n",
    "\n",
    "diabetes = datasets.load_diabetes()\n",
    "data = diabetes.data\n",
    "target = diabetes.target\n",
    "\n",
    "print(data.shape, target.shape)\n",
    "print(data[0])\n",
    "print(target[0]) # agora sao valores continuos"
   ]
  },
  {
   "cell_type": "code",
   "execution_count": 98,
   "metadata": {},
   "outputs": [],
   "source": [
    "class WineClassfier(nn.Module):\n",
    "\n",
    "    def __init__(self, input_size, hidden_size, out_size):\n",
    "        super(WineClassfier, self).__init__()\n",
    "\n",
    "        self.hidden = nn.Linear(input_size, hidden_size)\n",
    "        self.relu = nn.ReLU()\n",
    "        self.out = nn.Linear(hidden_size, out_size)\n",
    "        self.softmax = nn.Softmax()\n",
    "\n",
    "    def forward (self, X):\n",
    "\n",
    "        feature = self.relu(self.hidden(X))\n",
    "        output = self.softmax(self.out(feature))\n",
    "\n",
    "        return output\n",
    "    \n",
    "input_size = data.shape[1]\n",
    "hidden_size = 32 # numero escolhido arbitrariamente\n",
    "out_size = 1 # Progressao da diabetes\n",
    "\n",
    "net = WineClassfier(input_size, hidden_size, out_size).to(device) # cast na GPU"
   ]
  },
  {
   "cell_type": "code",
   "execution_count": 106,
   "metadata": {},
   "outputs": [
    {
     "name": "stdout",
     "output_type": "stream",
     "text": [
      "torch.Size([442, 10]) torch.Size([442])\n"
     ]
    }
   ],
   "source": [
    "criterion = nn.MSELoss().to(device)\n",
    "\n",
    "# Exercicio\n",
    "# criterion = nn.L1Loss().to(device)\n",
    "\n",
    "# Cast na GPU\n",
    "Xtensor = torch.from_numpy(data).float().to(device)\n",
    "Ytensor = torch.from_numpy(target).float().to(device)\n",
    "\n",
    "print(Xtensor.shape, Ytensor.shape)"
   ]
  },
  {
   "cell_type": "code",
   "execution_count": 107,
   "metadata": {},
   "outputs": [
    {
     "name": "stdout",
     "output_type": "stream",
     "text": [
      "torch.Size([442, 1])\n",
      "tensor(28771.2148)\n"
     ]
    }
   ],
   "source": [
    "# Como estamos usando MSE, tanto a pred quanto o rotulo devem ter a mesma dimensionalidade\n",
    "pred = net(Xtensor)\n",
    "print(pred.shape)\n",
    "\n",
    "loss = criterion(pred.squeeze(), Ytensor)\n",
    "print(loss.data)"
   ]
  },
  {
   "cell_type": "markdown",
   "metadata": {},
   "source": [
    "* **Revisar: Distância absoluta (L1) Loss, Mean Squared Error (MSE) Loss e CrossEntropyLoss**"
   ]
  }
 ],
 "metadata": {
  "kernelspec": {
   "display_name": "Python 3",
   "language": "python",
   "name": "python3"
  },
  "language_info": {
   "codemirror_mode": {
    "name": "ipython",
    "version": 3
   },
   "file_extension": ".py",
   "mimetype": "text/x-python",
   "name": "python",
   "nbconvert_exporter": "python",
   "pygments_lexer": "ipython3",
   "version": "3.10.12"
  }
 },
 "nbformat": 4,
 "nbformat_minor": 2
}
